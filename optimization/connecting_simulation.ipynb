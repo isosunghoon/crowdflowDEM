{
 "cells": [
  {
   "cell_type": "markdown",
   "metadata": {},
   "source": [
    "### Packages"
   ]
  },
  {
   "cell_type": "code",
   "execution_count": 1,
   "metadata": {},
   "outputs": [],
   "source": [
    "import numpy as np\n",
    "import pandas as pd\n",
    "import matplotlib.pyplot as plt\n",
    "from fastdtw import fastdtw\n",
    "from scipy.spatial.distance import euclidean"
   ]
  },
  {
   "cell_type": "markdown",
   "metadata": {},
   "source": [
    "### Configurations"
   ]
  },
  {
   "cell_type": "code",
   "execution_count": 2,
   "metadata": {},
   "outputs": [],
   "source": [
    "TEST_DATA_ID = 'CHERRY04'\n",
    "RESULT_PATH = f'./saved_exp_results/{TEST_DATA_ID}'\n",
    "\n",
    "FPS = 25\n",
    "VIDEO_CODEC = 'XVID'"
   ]
  },
  {
   "cell_type": "markdown",
   "metadata": {},
   "source": [
    "### Data Operation"
   ]
  },
  {
   "cell_type": "code",
   "execution_count": 3,
   "metadata": {},
   "outputs": [],
   "source": [
    "with open(f'tracks.txt', 'r') as f:\n",
    "    data = f.readlines()\n",
    "\n",
    "tracks = {}\n",
    "\n",
    "for line in data:\n",
    "    line = list(map(int, line.split()))\n",
    "    if line[0] not in tracks.keys():\n",
    "        tracks[line[0]] = []\n",
    "    tracks[line[0]].append((line[1], tuple(line[2:])))"
   ]
  },
  {
   "cell_type": "code",
   "execution_count": 4,
   "metadata": {},
   "outputs": [],
   "source": [
    "import matplotlib.pyplot as plt\n",
    "\n",
    "class KalmanFilter:\n",
    "    def __init__(self, process_variance, measurement_variance, estimation_error, initial_estimate):\n",
    "        self.process_variance = process_variance\n",
    "        self.measurement_variance = measurement_variance\n",
    "        self.estimation_error = estimation_error\n",
    "        self.estimate = initial_estimate\n",
    "\n",
    "    def update(self, measurement):\n",
    "        self.estimation_error += self.process_variance\n",
    "\n",
    "        kalman_gain = self.estimation_error / (self.estimation_error + self.measurement_variance)\n",
    "        self.estimate += kalman_gain * (measurement - self.estimate)\n",
    "        self.estimation_error *= (1 - kalman_gain)\n",
    "        \n",
    "        return self.estimate\n",
    "\n",
    "def smooth_track_with_kalman_filter(track, process_variance=1e-3, measurement_variance=1e-1):\n",
    "    initial_position = track[0][1]\n",
    "    kf_x = KalmanFilter(process_variance, measurement_variance, 1, initial_position[0])\n",
    "    kf_y = KalmanFilter(process_variance, measurement_variance, 1, initial_position[1])\n",
    "    \n",
    "    smoothed_track = []\n",
    "    for frame, position in track:\n",
    "        smoothed_x = kf_x.update(position[0])\n",
    "        smoothed_y = kf_y.update(position[1])\n",
    "        smoothed_track.append((frame, (smoothed_x, smoothed_y)))\n",
    "        \n",
    "    return smoothed_track\n",
    "\n",
    "def smooth_all_tracks(tracks, process_variance=1e-3, measurement_variance=1e-1):\n",
    "    smoothed_tracks = {}\n",
    "    for person_id, track in tracks.items():\n",
    "        smoothed_tracks[person_id] = smooth_track_with_kalman_filter(track, process_variance, measurement_variance)\n",
    "    return smoothed_tracks\n",
    "\n",
    "smoothed_tracks = smooth_all_tracks(tracks, process_variance=1e-1, measurement_variance=1e-1)"
   ]
  },
  {
   "cell_type": "code",
   "execution_count": 5,
   "metadata": {},
   "outputs": [],
   "source": [
    "def calculate_mean_velocity(tracks, fps):\n",
    "    velocities = {}\n",
    "    for person_id, track in tracks.items():\n",
    "        total_diplacement = np.array(track[-1][1]) - np.array(track[0][1])\n",
    "        total_time = len(track) / fps\n",
    "        mean_velocity_x = total_diplacement[0] / total_time\n",
    "        mean_velocity_y = total_diplacement[1] / total_time\n",
    "        velocities[person_id] = (mean_velocity_x, mean_velocity_y)\n",
    "    return velocities\n",
    "\n",
    "mean_velocities = calculate_mean_velocity(smoothed_tracks, FPS)\n",
    "processed_data = pd.DataFrame(list(mean_velocities.items()), columns=['Person ID', 'Mean Velocity'])x"
   ]
  },
  {
   "cell_type": "code",
   "execution_count": 6,
   "metadata": {},
   "outputs": [],
   "source": [
    "frames = [i[0][0] for i in smoothed_tracks.values()]\n",
    "poss = [(i[0][1][0],i[0][1][1]-100) for i in smoothed_tracks.values()]\n",
    "processed_data['Starting Frame'] = frames\n",
    "processed_data['Starting Frame'] += 1\n",
    "processed_data['Initial Position'] = poss\n",
    "processed_data.to_csv('processed_tracks.csv')"
   ]
  },
  {
   "cell_type": "code",
   "execution_count": 10,
   "metadata": {},
   "outputs": [
    {
     "data": {
      "text/plain": [
       "136.06422018348624"
      ]
     },
     "execution_count": 10,
     "metadata": {},
     "output_type": "execute_result"
    }
   ],
   "source": [
    "sum([i[-1][0] - i[0][0] for i in smoothed_tracks.values()])/len(smoothed_tracks.values())"
   ]
  },
  {
   "cell_type": "markdown",
   "metadata": {},
   "source": [
    "### Simularity Calculation"
   ]
  },
  {
   "cell_type": "code",
   "execution_count": 7,
   "metadata": {},
   "outputs": [
    {
     "name": "stdout",
     "output_type": "stream",
     "text": [
      "DTW Distances: {0: 0, 1: 0}\n"
     ]
    }
   ],
   "source": [
    "def extract_track_segment(track, start_frame, num_frames):\n",
    "    end_frame = start_frame + num_frames\n",
    "    segment = [(frame, pos) for frame, pos in track if start_frame <= frame < end_frame]\n",
    "    return segment\n",
    "\n",
    "def compare_tracks_dtw(track1, track2):\n",
    "    positions1 = [pos for _, pos in track1]\n",
    "    positions2 = [pos for _, pos in track2]\n",
    "    \n",
    "    distance, _ = fastdtw(positions1, positions2, dist=euclidean)\n",
    "    return distance\n",
    "\n",
    "def compare_all_tracks(tracks1, tracks2, start_frame, num_frames):\n",
    "    dtw_distances = {}\n",
    "    for person_id in tracks1.keys():\n",
    "        if person_id in tracks2:\n",
    "            track1 = extract_track_segment(tracks1[person_id], start_frame, num_frames)\n",
    "            track2 = extract_track_segment(tracks2[person_id], start_frame, num_frames)\n",
    "            \n",
    "            dtw_distance = compare_tracks_dtw(track1, track2)\n",
    "            dtw_distances[person_id] = dtw_distance\n",
    "    return dtw_distances\n",
    "\n",
    "tracks1 = {\n",
    "    0: [(512, (2, 3)), (513, (3, 4)), (515, (1, 2))],\n",
    "    1: [(512, (1, 2)), (513, (2, 3)), (514, (3, 5))],\n",
    "}\n",
    "\n",
    "tracks2 = {\n",
    "    0: [(512, (2, 3)), (513, (3, 4)), (515, (1, 2))],\n",
    "    1: [(512, (1, 2)), (513, (2, 3)), (514, (3, 5))],\n",
    "}\n",
    "\n",
    "start_frame = 0\n",
    "num_frames = 510\n",
    "\n",
    "dtw_distances = compare_all_tracks(tracks1, tracks2, start_frame, num_frames)\n",
    "print(\"DTW Distances:\", dtw_distances)\n"
   ]
  }
 ],
 "metadata": {
  "kernelspec": {
   "display_name": "IIM",
   "language": "python",
   "name": "python3"
  },
  "language_info": {
   "codemirror_mode": {
    "name": "ipython",
    "version": 3
   },
   "file_extension": ".py",
   "mimetype": "text/x-python",
   "name": "python",
   "nbconvert_exporter": "python",
   "pygments_lexer": "ipython3",
   "version": "3.12.2"
  }
 },
 "nbformat": 4,
 "nbformat_minor": 2
}
